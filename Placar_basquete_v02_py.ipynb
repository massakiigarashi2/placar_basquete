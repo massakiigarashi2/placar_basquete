{
  "nbformat": 4,
  "nbformat_minor": 0,
  "metadata": {
    "colab": {
      "provenance": [],
      "authorship_tag": "ABX9TyNvyjgkKTNH9/WU5ntaOnBF",
      "include_colab_link": true
    },
    "kernelspec": {
      "name": "python3",
      "display_name": "Python 3"
    },
    "language_info": {
      "name": "python"
    }
  },
  "cells": [
    {
      "cell_type": "markdown",
      "metadata": {
        "id": "view-in-github",
        "colab_type": "text"
      },
      "source": [
        "<a href=\"https://colab.research.google.com/github/massakiigarashi2/placar_basquete/blob/main/Placar_basquete_v02_py.ipynb\" target=\"_parent\"><img src=\"https://colab.research.google.com/assets/colab-badge.svg\" alt=\"Open In Colab\"/></a>"
      ]
    },
    {
      "cell_type": "code",
      "execution_count": null,
      "metadata": {
        "id": "tuNm3CEiTyxn"
      },
      "outputs": [],
      "source": [
        "import pygame\n",
        "\n",
        "# Inicialização do Pygame\n",
        "pygame.init()\n",
        "\n",
        "# Definição das cores\n",
        "BLACK = (0, 0, 0)\n",
        "WHITE = (255, 255, 255)\n",
        "GRAY = (128, 128, 128)\n",
        "RED = (255, 0, 0)\n",
        "\n",
        "# Definição das fontes\n",
        "font_name = pygame.font.match_font('arial')\n",
        "font_score = pygame.font.SysFont(font_name, 900)\n",
        "font_team = pygame.font.SysFont(font_name, 250)\n",
        "\n",
        "# Definição das variáveis\n",
        "team1_name = \"Claro\"\n",
        "team2_name = \"Escuro\"\n",
        "team1_score = 0\n",
        "team2_score = 0\n",
        "selected_team = 1\n",
        "\n",
        "# Criação da janela\n",
        "size = (1920, 1010)\n",
        "screen = pygame.display.set_mode(size)\n",
        "pygame.display.set_caption(\"Placar de Basquetebol\")\n",
        "\n",
        "# Função para desenhar o placar\n",
        "def draw_score():\n",
        "    screen.fill(BLACK)\n",
        "    team1_text = font_team.render(team1_name, True, WHITE)\n",
        "    team2_text = font_team.render(team2_name, True, GRAY)\n",
        "    team1_score_text = font_score.render(str(team1_score), True, RED)\n",
        "    team2_score_text = font_score.render(str(team2_score), True, RED)\n",
        "    screen.blit(team1_text, (size[0] // 4 - team1_text.get_width() // 2, 50))\n",
        "    screen.blit(team2_text, (3 * size[0] // 4 - team2_text.get_width() // 2, 50))\n",
        "    screen.blit(team1_score_text, (size[0] // 4 - team1_score_text.get_width() // 2, 300))\n",
        "    screen.blit(team2_score_text, (3 * size[0] // 4 - team2_score_text.get_width() // 2, 300))\n",
        "    if selected_team == 1:\n",
        "        screen.blit(font_team.render(\"*\", True, WHITE), (size[0] // 4 - team1_text.get_width() // 2 - 50, 50))\n",
        "    else:\n",
        "        screen.blit(font_team.render(\"*\", True, GRAY), (3 * size[0] // 4 - team2_text.get_width() // 2 - 50, 50))\n",
        "\n",
        "# Loop principal do jogo\n",
        "done = False\n",
        "while not done:\n",
        "    # Verificação de eventos\n",
        "    for event in pygame.event.get():\n",
        "        if event.type == pygame.QUIT:\n",
        "            done = True\n",
        "        elif event.type == pygame.KEYDOWN:\n",
        "            if event.key == pygame.K_1:\n",
        "                if selected_team == 1:\n",
        "                    team1_score += 1\n",
        "                else:\n",
        "                    team2_score += 1\n",
        "            elif event.key == pygame.K_2:\n",
        "                if selected_team == 1:\n",
        "                    team1_score += 2\n",
        "                else:\n",
        "                    team2_score += 2\n",
        "            elif event.key == pygame.K_3:\n",
        "                if selected_team == 1:\n",
        "                    team1_score += 3\n",
        "                else:\n",
        "                    team2_score += 3\n",
        "            elif event.key == pygame.K_BACKSPACE:\n",
        "                if selected_team == 1 and team1_score > 0:\n",
        "                    team1_score -= 1\n",
        "                elif selected_team == 2 and team2_score > 0:\n",
        "                    team2_score -= 1\n",
        "            elif event.key == pygame.K_TAB:\n",
        "                selected_team = 2 if selected_team == 1 else 1\n",
        "            elif event.key == pygame.K_F1:\n",
        "                team1_score = team2_score = 0\n",
        "    # Desenho do placar\n",
        "    draw_score()\n",
        "    # Atualização da tela\n",
        "    pygame.display.flip()\n",
        "\n",
        "# Encerramento do Pygame\n",
        "pygame.quit()"
      ]
    }
  ]
}